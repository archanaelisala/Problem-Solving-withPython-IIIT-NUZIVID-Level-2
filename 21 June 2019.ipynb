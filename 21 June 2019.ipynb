{
 "cells": [
  {
   "cell_type": "code",
   "execution_count": null,
   "metadata": {},
   "outputs": [],
   "source": [
    "def facebookProfilePicture(l,w,h):\n",
    "    if w<l or h<l:\n",
    "        print(\"upload another\")\n",
    "    elif w>l and h>l:\n",
    "        print(\"crop it\")\n",
    "    else:\n",
    "        print(\"accepted\")\n",
    "        return\n",
    "l=input()\n",
    "w=input()\n",
    "h=input()\n",
    "facebookProfilePicture(l,w,h)\n",
    "\n",
    "    "
   ]
  },
  {
   "cell_type": "code",
   "execution_count": null,
   "metadata": {},
   "outputs": [],
   "source": []
  },
  {
   "cell_type": "code",
   "execution_count": null,
   "metadata": {},
   "outputs": [],
   "source": [
    "from packages import validators \n",
    "def addContact(name,phone,email):\n",
    "    # store data sa name,phone,email in the contacts files\n",
    "    if name in filename:\n",
    "        print(\"name already exist\")\n",
    "    else:\n",
    "        with open(filename,'a') as f:\n",
    "            line =\n",
    "            f.writelines(filedata)\n",
    "            print(\"contact added\")\n",
    "    return\n",
    "filename= 'Data files/contacts.txt'\n",
    "filedata=[\"\\narchana\",\"\\n 8466852424\"]\n",
    "addContact(filename,filedata)"
   ]
  },
  {
   "cell_type": "markdown",
   "metadata": {},
   "source": []
  },
  {
   "cell_type": "code",
   "execution_count": null,
   "metadata": {},
   "outputs": [],
   "source": []
  },
  {
   "cell_type": "code",
   "execution_count": null,
   "metadata": {},
   "outputs": [],
   "source": [
    "from packages import validators \n",
    "def addContact(name,phone,email):\n",
    "    # store data sa name,phone,email in the contacts files\n",
    "    filename= 'Data files/contacts.txt'\n",
    "    with open(filename,'a') as f:\n",
    "        line =name + ',' + str(phone) + ',' + email +'\\n'\n",
    "        f.write(line)\n",
    "    print(name,'Contact addeded to contacts')\n",
    "    return\n",
    "addContact(\"Anu\",9502638428,\"anuchinnu71@gmail.com\")"
   ]
  },
  {
   "cell_type": "code",
   "execution_count": null,
   "metadata": {},
   "outputs": [],
   "source": [
    "from packages import validators \n",
    "def addContact(name,phone,email):\n",
    "    # store data sa name,phone,email in the contacts files\n",
    "    filename= 'Data files/contacts.txt'\n",
    "    if not checkContactExist(name):\n",
    "        if phoneNumberValidator(phone) and emailValidator(email):\n",
    "            with open(filename,'a') as f:\n",
    "                line =name + ',' + str(phone) + ',' + email +'\\n'\n",
    "                f.write(line)\n",
    "            print(name,'Contact addeded to contacts')\n",
    "        else:\n",
    "            print(\"invalid phone number or email\")\n",
    "            return\n",
    "    else:\n",
    "        print(\"already exist\")\n",
    "    return\n",
    "addContact(\"Anu\",9502638428,\"anuchinnu71@gmail.com\")"
   ]
  },
  {
   "cell_type": "code",
   "execution_count": null,
   "metadata": {},
   "outputs": [],
   "source": [
    "#function to check if contact is already exist\n",
    "import re\n",
    "def checkContactExist(name):\n",
    "    filename='Data files/contacts.txt'\n",
    "    with open(filename,'r') as f:\n",
    "        f.read()\n",
    "    return re.search(name,filename)\n",
    "if checkContactExist(\"anu\"):\n",
    "    print(\"True\")\n",
    "else:\n",
    "    print(\"False\")"
   ]
  },
  {
   "cell_type": "code",
   "execution_count": null,
   "metadata": {},
   "outputs": [],
   "source": []
  }
 ],
 "metadata": {
  "kernelspec": {
   "display_name": "Python 3",
   "language": "python",
   "name": "python3"
  },
  "language_info": {
   "codemirror_mode": {
    "name": "ipython",
    "version": 3
   },
   "file_extension": ".py",
   "mimetype": "text/x-python",
   "name": "python",
   "nbconvert_exporter": "python",
   "pygments_lexer": "ipython3",
   "version": "3.7.3"
  }
 },
 "nbformat": 4,
 "nbformat_minor": 2
}
