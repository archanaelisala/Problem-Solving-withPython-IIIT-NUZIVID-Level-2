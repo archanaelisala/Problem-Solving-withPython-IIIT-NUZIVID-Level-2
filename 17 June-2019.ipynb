{
 "cells": [
  {
   "cell_type": "code",
   "execution_count": 3,
   "metadata": {},
   "outputs": [
    {
     "data": {
      "text/plain": [
       "'A'"
      ]
     },
     "execution_count": 3,
     "metadata": {},
     "output_type": "execute_result"
    }
   ],
   "source": [
    "# Function to Toggle String Characterers\n",
    "\n",
    "s = \"Abc\"\n",
    "\n",
    "s.isupper()\n",
    "s.islower()\n",
    "\n",
    "s.lower()\n",
    "s.upper()\n"
   ]
  },
  {
   "cell_type": "code",
   "execution_count": 6,
   "metadata": {},
   "outputs": [
    {
     "data": {
      "text/plain": [
       "'aBC'"
      ]
     },
     "execution_count": 6,
     "metadata": {},
     "output_type": "execute_result"
    }
   ],
   "source": [
    "# Function to Toggle String Characterers\n",
    "\n",
    "def toggleString(s):\n",
    "    #Convert the string into a list of characters\n",
    "    s = list(s)\n",
    "    t=[]\n",
    "    for c in s:\n",
    "        if c.islower():\n",
    "            t.append(c.upper())\n",
    "        else:\n",
    "            t.append(c.lower())\n",
    "    return \"\".join(t)\n",
    "toggleString(\"Abc\")"
   ]
  },
  {
   "cell_type": "markdown",
   "metadata": {},
   "source": [
    "\n",
    "#### problem : Duration\n",
    "**Input**:  start time, end time (HH MM)\n",
    "    HH - {00, 23} - {00 00, 23 59}\n",
    "    MM - {00.59}\n",
    "    HH MM - {00 00,23 59}\n",
    "    \n",
    "**Ouput**: time difference in HH MM"
   ]
  },
  {
   "cell_type": "code",
   "execution_count": 9,
   "metadata": {},
   "outputs": [
    {
     "name": "stdout",
     "output_type": "stream",
     "text": [
      "5 41\n"
     ]
    }
   ],
   "source": [
    "# caluculate the time difference as total no of minutes\n",
    "\n",
    "s = \" 2 42 8 23\"\n",
    "def minuteDifference(s):\n",
    "    s = s.split()\n",
    "    sh=int(s[0])\n",
    "    sm=int(s[1])\n",
    "    eh=int(s[2])\n",
    "    em=int(s[3])\n",
    "    startminutes = (sh * 60)+sm\n",
    "    endminutes = (eh * 60)+em\n",
    "    return endminutes - startminutes\n",
    "def outputTimeFormat(minutes):\n",
    "    #Convert mnutes to HH MM\n",
    "    hh = minutes // 60\n",
    "    mm = minutes % 60\n",
    "    print(hh,mm)\n",
    "    return\n",
    "minutes = minuteDifference(s)\n",
    "outputTimeFormat(minutes)\n",
    "    \n",
    "    \n",
    "    "
   ]
  },
  {
   "cell_type": "markdown",
   "metadata": {},
   "source": [
    "### Problem: Play With Numbers\n",
    "line 1: "
   ]
  },
  {
   "cell_type": "code",
   "execution_count": null,
   "metadata": {},
   "outputs": [],
   "source": [
    "#Check a given number is perfect\n",
    "\n",
    "def isPerfect(num):\n",
    "    s=0\n",
    "    for i in range(1,num):\n",
    "        if num%i==0:\n",
    "            s=s+i\n",
    "    if s==num:\n",
    "        print(\"It Is Perfect Number\")\n",
    "    else:\n",
    "        print(\"Not a Perfect Number\")\n",
    "test=int(input())\n",
    "for i in range(1,test+1):\n",
    "    num=int(input())\n",
    "    isPerfect(num)\n"
   ]
  },
  {
   "cell_type": "code",
   "execution_count": null,
   "metadata": {},
   "outputs": [],
   "source": [
    "#Letter and digit count\n",
    "def digits(s):\n",
    "    cnt=0\n",
    "    s=0\n",
    "    l=list(s)\n",
    "    for i in s:\n",
    "        if i.isdigit():\n",
    "            s+=1\n",
    "        elif i.isalpha():\n",
    "            cnt+=1\n",
    "    print(s)\n",
    "    print(cnt)\n",
    "\n",
    "s=input()\n",
    "digits(s)\n"
   ]
  },
  {
   "cell_type": "code",
   "execution_count": null,
   "metadata": {},
   "outputs": [],
   "source": []
  }
 ],
 "metadata": {
  "kernelspec": {
   "display_name": "Python 3",
   "language": "python",
   "name": "python3"
  },
  "language_info": {
   "codemirror_mode": {
    "name": "ipython",
    "version": 3
   },
   "file_extension": ".py",
   "mimetype": "text/x-python",
   "name": "python",
   "nbconvert_exporter": "python",
   "pygments_lexer": "ipython3",
   "version": "3.7.3"
  }
 },
 "nbformat": 4,
 "nbformat_minor": 2
}
