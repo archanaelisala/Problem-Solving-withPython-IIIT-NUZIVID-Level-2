{
 "cells": [
  {
   "cell_type": "code",
   "execution_count": null,
   "metadata": {},
   "outputs": [],
   "source": [
    "#Function to generate marks for n students\n",
    "from random import randint\n",
    "def generateMarks(n,lb,ub):\n",
    "    f=open('Data files/marks.txt','w')\n",
    "    for i in range(0,n):\n",
    "        r=randint(lb,ub)\n",
    "        f.write(str(r) + '\\n')\n",
    "    f.close()\n",
    "    return\n",
    "n=int(input())\n",
    "lb=int(input())\n",
    "ub=int(input())\n",
    "generateMarks(n,lb,ub)\n"
   ]
  },
  {
   "cell_type": "code",
   "execution_count": 28,
   "metadata": {},
   "outputs": [
    {
     "name": "stdout",
     "output_type": "stream",
     "text": [
      "61\n",
      "88\n",
      "27\n",
      "9\n",
      "\n"
     ]
    },
    {
     "data": {
      "text/plain": [
       "46.25"
      ]
     },
     "execution_count": 28,
     "metadata": {},
     "output_type": "execute_result"
    }
   ],
   "source": [
    "def classAverage(filepath):\n",
    "    filepath=open('Data files/marks.txt','r')\n",
    "    c=filepath.read()\n",
    "    print(c)\n",
    "    sum=0\n",
    "    count=0\n",
    "    for i in c.split():\n",
    "        sum=sum+int(i)\n",
    "        count+=1\n",
    "        avg=sum/count\n",
    "    return avg\n",
    "    f.close() \n",
    "filepath=open('Data files/marks.txt','r')\n",
    "classAverage(filepath)\n",
    "\n",
    "        "
   ]
  },
  {
   "cell_type": "code",
   "execution_count": 62,
   "metadata": {},
   "outputs": [
    {
     "name": "stdout",
     "output_type": "stream",
     "text": [
      "41\n",
      "69\n",
      "81\n",
      "43\n",
      "86\n",
      "4\n",
      "93\n",
      "70\n",
      "78\n",
      "49\n",
      "\n"
     ]
    },
    {
     "data": {
      "text/plain": [
       "90.0"
      ]
     },
     "execution_count": 62,
     "metadata": {},
     "output_type": "execute_result"
    }
   ],
   "source": [
    "def passPercentage(filepath):\n",
    "    filepath=open('Data files/marks.txt','r')\n",
    "    c=filepath.read()\n",
    "    print(c)\n",
    "    count=0\n",
    "    for i in c.split():\n",
    "        if int(i)>=35:\n",
    "            #sum=sum+int(i)\n",
    "            count+=1\n",
    "            #avg=sum/count\n",
    "            per=(count/len(c.split()))*100\n",
    "            #tot=(avg*count)/100\n",
    "    #return avg\n",
    "    #return tot\n",
    "    return per\n",
    "filepath=open('Data files/marks.txt','r')\n",
    "passPercentage(filepath)\n",
    "            \n",
    "        "
   ]
  },
  {
   "cell_type": "code",
   "execution_count": 63,
   "metadata": {},
   "outputs": [
    {
     "name": "stdout",
     "output_type": "stream",
     "text": [
      "41\n",
      "69\n",
      "81\n",
      "43\n",
      "86\n",
      "4\n",
      "93\n",
      "70\n",
      "78\n",
      "49\n",
      "\n"
     ]
    },
    {
     "data": {
      "text/plain": [
       "10.0"
      ]
     },
     "execution_count": 63,
     "metadata": {},
     "output_type": "execute_result"
    }
   ],
   "source": [
    "def failPercentage(filepath):\n",
    "    filepath=open('Data files/marks.txt','r')\n",
    "    c=filepath.read()\n",
    "    print(c)\n",
    "    sum=0\n",
    "    count=0\n",
    "    for i in c.split():\n",
    "        if int(i)<35:\n",
    "            sum=sum+int(i)\n",
    "            count+=1\n",
    "            avg=(sum/count)\n",
    "            per=(count/len(c.split()))*100\n",
    "    #return avg\n",
    "    return per\n",
    "filepath=open('Data files/marks.txt','r')\n",
    "failPercentage(filepath)"
   ]
  },
  {
   "cell_type": "code",
   "execution_count": 64,
   "metadata": {},
   "outputs": [
    {
     "name": "stdout",
     "output_type": "stream",
     "text": [
      "41\n",
      "69\n",
      "81\n",
      "43\n",
      "86\n",
      "4\n",
      "93\n",
      "70\n",
      "78\n",
      "49\n",
      "\n"
     ]
    },
    {
     "data": {
      "text/plain": [
       "40.0"
      ]
     },
     "execution_count": 64,
     "metadata": {},
     "output_type": "execute_result"
    }
   ],
   "source": [
    "def failPercentage(filepath):\n",
    "    filepath=open('Data files/marks.txt','r')\n",
    "    c=filepath.read()\n",
    "    print(c)\n",
    "    sum=0\n",
    "    count=0\n",
    "    for i in c.split():\n",
    "        if int(i)>75:\n",
    "            sum=sum+int(i)\n",
    "            count+=1\n",
    "            avg=(sum/count)\n",
    "            per=(count/len(c.split()))*100\n",
    "    #return avg\n",
    "    return per\n",
    "filepath=open('Data files/marks.txt','r')\n",
    "failPercentage(filepath)"
   ]
  },
  {
   "cell_type": "code",
   "execution_count": 5,
   "metadata": {},
   "outputs": [
    {
     "name": "stdout",
     "output_type": "stream",
     "text": [
      "41\n",
      "69\n",
      "81\n",
      "43\n",
      "86\n",
      "4\n",
      "93\n",
      "70\n",
      "78\n",
      "49\n",
      "\n",
      "highest marks frequency is 9\n"
     ]
    }
   ],
   "source": [
    "def failPercentage(filepath):\n",
    "    filepath=open('Data files/marks.txt','r')\n",
    "    c=filepath.read()\n",
    "    print(c)\n",
    "    count=0\n",
    "    for i in c.split():\n",
    "        high=max(i)\n",
    "    print(\"highest marks frequency is\",high)\n",
    "    return\n",
    "filepath=open('Data files/marks.txt','r')\n",
    "failPercentage(filepath)\n"
   ]
  },
  {
   "cell_type": "code",
   "execution_count": null,
   "metadata": {},
   "outputs": [],
   "source": []
  }
 ],
 "metadata": {
  "kernelspec": {
   "display_name": "Python 3",
   "language": "python",
   "name": "python3"
  },
  "language_info": {
   "codemirror_mode": {
    "name": "ipython",
    "version": 3
   },
   "file_extension": ".py",
   "mimetype": "text/x-python",
   "name": "python",
   "nbconvert_exporter": "python",
   "pygments_lexer": "ipython3",
   "version": "3.7.3"
  }
 },
 "nbformat": 4,
 "nbformat_minor": 2
}
