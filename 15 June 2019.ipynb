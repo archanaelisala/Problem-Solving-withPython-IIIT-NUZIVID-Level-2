{
 "cells": [
  {
   "cell_type": "code",
   "execution_count": 5,
   "metadata": {},
   "outputs": [
    {
     "name": "stdout",
     "output_type": "stream",
     "text": [
      "archana\n",
      "46\n"
     ]
    }
   ],
   "source": [
    "#char sum\n",
    "def string(str):\n",
    "    sum=0\n",
    "    for i in str:\n",
    "        sum=sum+(ord(i)-96)\n",
    "    print(sum)\n",
    "str=input()\n",
    "string(str)"
   ]
  },
  {
   "cell_type": "code",
   "execution_count": 6,
   "metadata": {},
   "outputs": [
    {
     "name": "stdout",
     "output_type": "stream",
     "text": [
      "5\n",
      "120\n"
     ]
    }
   ],
   "source": [
    "#factorial\n",
    "\n",
    "def fact(n):\n",
    "    f=1\n",
    "    for i in range(1,n+1):\n",
    "        f=f*i\n",
    "    print(f)\n",
    "n=int(input())\n",
    "fact(n)"
   ]
  },
  {
   "cell_type": "markdown",
   "metadata": {},
   "source": [
    "# Count divisor"
   ]
  },
  {
   "cell_type": "code",
   "execution_count": null,
   "metadata": {},
   "outputs": [],
   "source": [
    "def countdivisor(a,b,c):\n",
    "    cnt=0\n",
    "    for i in range(a,b+1):\n",
    "        if (i%c==0):\n",
    "            cnt=cnt+1\n",
    "    print(cnt)\n",
    "    \n",
    "s=input()\n",
    "\n",
    "s=s.split()\n",
    "\n",
    "a=int(s[0])\n",
    "b=int(s[0])\n",
    "c=int(s[0])\n",
    "\n",
    "countdivisor(a,b,c)"
   ]
  },
  {
   "cell_type": "code",
   "execution_count": null,
   "metadata": {},
   "outputs": [],
   "source": []
  }
 ],
 "metadata": {
  "kernelspec": {
   "display_name": "Python 3",
   "language": "python",
   "name": "python3"
  },
  "language_info": {
   "codemirror_mode": {
    "name": "ipython",
    "version": 3
   },
   "file_extension": ".py",
   "mimetype": "text/x-python",
   "name": "python",
   "nbconvert_exporter": "python",
   "pygments_lexer": "ipython3",
   "version": "3.7.3"
  }
 },
 "nbformat": 4,
 "nbformat_minor": 2
}
