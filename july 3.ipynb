{
 "cells": [
  {
   "cell_type": "code",
   "execution_count": 1,
   "metadata": {},
   "outputs": [
    {
     "name": "stdout",
     "output_type": "stream",
     "text": [
      "A P S S D C\n",
      "Apssdc\n"
     ]
    }
   ],
   "source": [
    "def stringConverting(s):\n",
    "    a=s.lower()\n",
    "    s1=a.capitalize()\n",
    "    s2=s1.replace(\" \",\"\")\n",
    "    print(s2)\n",
    "s=input()\n",
    "stringConverting(s)"
   ]
  },
  {
   "cell_type": "code",
   "execution_count": 2,
   "metadata": {},
   "outputs": [
    {
     "name": "stdout",
     "output_type": "stream",
     "text": [
      "hi hellow world \n",
      "hellow\n"
     ]
    }
   ],
   "source": [
    "def highestLengthword(s):\n",
    "    lenths=[]\n",
    "    for word in s:\n",
    "        lenths.append(len(word))\n",
    "    max_lenth=max(lenths)\n",
    "    #print(max_lenth)\n",
    "    for word in s:\n",
    "        if max_lenth==len(word):\n",
    "            print(word)\n",
    "        \n",
    "s=input().split()\n",
    "highestLengthword(s)"
   ]
  },
  {
   "cell_type": "code",
   "execution_count": 4,
   "metadata": {},
   "outputs": [
    {
     "name": "stdout",
     "output_type": "stream",
     "text": [
      "anu ramu rama\n",
      "ramu rama "
     ]
    }
   ],
   "source": [
    "def nameStartsWithR(s):\n",
    "    s1=[]\n",
    "    count=0\n",
    "    for word in s:\n",
    "        s1.append(word)\n",
    "    for word in s1:\n",
    "        s2='r'\n",
    "        if word.startswith(s2):\n",
    "            print(word,end=\" \")\n",
    "            count+=1\n",
    "    if count==0:\n",
    "        print('-1')\n",
    "\n",
    "s=input().split()\n",
    "nameStartsWithR(s)\n",
    "\n",
    "\n",
    "    "
   ]
  },
  {
   "cell_type": "code",
   "execution_count": null,
   "metadata": {},
   "outputs": [],
   "source": [
    "def isprime(n):\n",
    "    c=0\n",
    "\n",
    "    for i in n:\n",
    "        for j in range(2,i):\n",
    "            if i%j==0:\n",
    "                c+=1\n",
    "    if c==2:\n",
    "        print(\"True\")\n",
    "    else:\n",
    "        print(\"False\")\n",
    "n=list(map(int,input().split()))\n",
    "isprime(n)"
   ]
  },
  {
   "cell_type": "code",
   "execution_count": null,
   "metadata": {},
   "outputs": [],
   "source": [
    "# 3. Print prime numbers up to given range. --> input: 10 output: 2 3 5 7\n",
    "\n",
    "def primeNumberRange(lb,ub):\n",
    "    for i in range(lb,ub+1):\n",
    "        if i>1:\n",
    "            for j in range(2,i):\n",
    "                if(i%j)==0:\n",
    "                    break\n",
    "            else:\n",
    "                print(i)\n",
    "\n",
    "lb=int(input())\n",
    "ub=int(input())\n",
    "primeNumberRange(lb,ub)\n"
   ]
  },
  {
   "cell_type": "code",
   "execution_count": 5,
   "metadata": {},
   "outputs": [
    {
     "name": "stdout",
     "output_type": "stream",
     "text": [
      "12 123 1234 12 12 12345\n",
      "1234\n"
     ]
    }
   ],
   "source": [
    " # 3.Print second Max Ex: 12 34 23 45 65 o/p:45\n",
    "def secondMax(s) :   \n",
    "    #print(s)\n",
    "    order=sorted(s) \n",
    "    #print(order)\n",
    "    second_max=order[-2]\n",
    "    print(second_max)\n",
    "s=input().split()\n",
    "secondMax(s)"
   ]
  },
  {
   "cell_type": "code",
   "execution_count": 4,
   "metadata": {},
   "outputs": [
    {
     "name": "stdout",
     "output_type": "stream",
     "text": [
      "7\n"
     ]
    },
    {
     "data": {
      "text/plain": [
       "True"
      ]
     },
     "execution_count": 4,
     "metadata": {},
     "output_type": "execute_result"
    }
   ],
   "source": [
    "def main(s)\n",
    "def isPrime(n):\n",
    "    c=0\n",
    "    for i in range(1,n+1):\n",
    "        if n%i==0:\n",
    "            c+=1\n",
    "    if c==2:\n",
    "        return True\n",
    "    return False\n",
    "n=int(input())\n",
    "isPrime(n)"
   ]
  },
  {
   "cell_type": "code",
   "execution_count": 1,
   "metadata": {},
   "outputs": [
    {
     "ename": "SyntaxError",
     "evalue": "invalid syntax (<ipython-input-1-76b2126a38cb>, line 24)",
     "output_type": "error",
     "traceback": [
      "\u001b[1;36m  File \u001b[1;32m\"<ipython-input-1-76b2126a38cb>\"\u001b[1;36m, line \u001b[1;32m24\u001b[0m\n\u001b[1;33m    elif isPrime(n)\u001b[0m\n\u001b[1;37m                   ^\u001b[0m\n\u001b[1;31mSyntaxError\u001b[0m\u001b[1;31m:\u001b[0m invalid syntax\n"
     ]
    }
   ],
   "source": [
    "### 4.Print factorial of a given number if it is a prime otherwise print power of the value.\n",
    "\n",
    "#### test cases : 2\n",
    "#### 5  --> 120\n",
    "#### 4 --> 16\n",
    "\n",
    "def main(n):\n",
    "    def isPrime(n):\n",
    "        c=0\n",
    "        for i in range(1,n+1):\n",
    "            if s%i==0:\n",
    "                c+=1\n",
    "        if c==2:\n",
    "            return True\n",
    "        return False\n",
    "    def Fact(n):\n",
    "        fact=1\n",
    "        for i in range(1,n+1):\n",
    "            fact=fact*i\n",
    "        return fact\n",
    "    s=len(n)\n",
    "    if s==1:\n",
    "        return -1\n",
    "    elif isPrime(n):\n",
    "        return Fact(n) \n",
    "    else:\n",
    "        return n[::-1]\n",
    "t=int(input())\n",
    "for i in range(t):\n",
    "    n=input()\n",
    "    main(n)"
   ]
  },
  {
   "cell_type": "raw",
   "metadata": {},
   "source": []
  },
  {
   "cell_type": "code",
   "execution_count": null,
   "metadata": {},
   "outputs": [
    {
     "name": "stdout",
     "output_type": "stream",
     "text": [
      "2\n",
      "arch\n",
      "hcra\n"
     ]
    }
   ],
   "source": [
    "def isPrime(n):\n",
    "    c=0\n",
    "    for i in range(2,n):\n",
    "        if n%i==0:\n",
    "            c+=1       \n",
    "    if c==0:\n",
    "        return True\n",
    "    return False\n",
    "def Fact(n):\n",
    "    if isPrime(len(n)):\n",
    "        fact=1\n",
    "        for i in range(1,len(n)+1):\n",
    "            fact=fact*i\n",
    "        return fact\n",
    "    else:\n",
    "        return n[::-1]\n",
    "    \n",
    "t=int(input())\n",
    "for i in range(t):\n",
    "    n=input()\n",
    "    print(Fact(n))\n",
    "    "
   ]
  },
  {
   "cell_type": "code",
   "execution_count": null,
   "metadata": {},
   "outputs": [],
   "source": [
    "def isPrime(n):\n",
    "    count=0\n",
    "    for i in range(1,n+1):\n",
    "        if n%i==0:\n",
    "            count+=1\n",
    "    if count==2:\n",
    "        return i\n",
    "def primeRange(t):\n",
    "    for i in range(1,t+1):\n",
    "        if isPrime(i):\n",
    "            print(i,end=\" \")\n",
    "t=int(input())\n",
    "primeRange(t)\n",
    "\n"
   ]
  },
  {
   "cell_type": "code",
   "execution_count": null,
   "metadata": {},
   "outputs": [],
   "source": [
    "n=int(input())\n",
    "s=1\n",
    "for i in n:\n",
    "    s=s*i\n",
    "proint(s)"
   ]
  },
  {
   "cell_type": "code",
   "execution_count": 7,
   "metadata": {},
   "outputs": [
    {
     "name": "stdout",
     "output_type": "stream",
     "text": [
      "4\n",
      "*   *\n",
      "*   *\n",
      "*****\n",
      "*   *\n",
      "*   *\n",
      "*****\n",
      "*   *\n",
      "*   *\n",
      "*****\n",
      "*   *\n",
      "*   *\n",
      "*****\n",
      "*   *\n",
      "*   *\n"
     ]
    }
   ],
   "source": [
    "n=int(input())\n",
    "print(\"*   *\")\n",
    "print(\"*   *\")\n",
    "for i in range(n):\n",
    "    print(\"*****\")\n",
    "    print(\"*   *\")\n",
    "    print(\"*   *\")"
   ]
  },
  {
   "cell_type": "code",
   "execution_count": null,
   "metadata": {},
   "outputs": [],
   "source": [
    "s=input()"
   ]
  },
  {
   "cell_type": "code",
   "execution_count": null,
   "metadata": {},
   "outputs": [],
   "source": []
  }
 ],
 "metadata": {
  "kernelspec": {
   "display_name": "Python 3",
   "language": "python",
   "name": "python3"
  },
  "language_info": {
   "codemirror_mode": {
    "name": "ipython",
    "version": 3
   },
   "file_extension": ".py",
   "mimetype": "text/x-python",
   "name": "python",
   "nbconvert_exporter": "python",
   "pygments_lexer": "ipython3",
   "version": "3.7.3"
  }
 },
 "nbformat": 4,
 "nbformat_minor": 2
}
