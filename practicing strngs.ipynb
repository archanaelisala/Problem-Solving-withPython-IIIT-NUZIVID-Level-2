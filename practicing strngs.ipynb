{
 "cells": [
  {
   "cell_type": "markdown",
   "metadata": {},
   "source": [
    "# Functions\n",
    "\n"
   ]
  },
  {
   "cell_type": "code",
   "execution_count": 7,
   "metadata": {},
   "outputs": [
    {
     "name": "stdout",
     "output_type": "stream",
     "text": [
      "Hello, I'm a Geek\n"
     ]
    }
   ],
   "source": [
    "String1 = \"Hello, I'm a Geek\"\n",
    "print(String1) \n",
    "#del String1[2]--->strings doesnt supp item deletion"
   ]
  },
  {
   "cell_type": "code",
   "execution_count": 9,
   "metadata": {},
   "outputs": [
    {
     "name": "stdout",
     "output_type": "stream",
     "text": [
      "I'm a \"Geek\"\n"
     ]
    }
   ],
   "source": [
    "String1 = 'I\\'m a \"Geek\"'\n",
    "#print(\"\\nEscaping Single Quote: \") \n",
    "print(String1) "
   ]
  },
  {
   "cell_type": "code",
   "execution_count": 11,
   "metadata": {},
   "outputs": [
    {
     "name": "stdout",
     "output_type": "stream",
     "text": [
      "archana\n"
     ]
    }
   ],
   "source": [
    "s=\"archana\"\n",
    "print(s)"
   ]
  },
  {
   "cell_type": "code",
   "execution_count": 12,
   "metadata": {},
   "outputs": [
    {
     "name": "stdout",
     "output_type": "stream",
     "text": [
      "C:\\Python\\Geeks\\\n"
     ]
    }
   ],
   "source": [
    "# escaping \n",
    "String1 = \"C:\\\\Python\\\\Geeks\\\\\"\n",
    "#print(\"\\nEscaping Backslashes: \") \n",
    "print(String1) "
   ]
  },
  {
   "cell_type": "code",
   "execution_count": 13,
   "metadata": {},
   "outputs": [
    {
     "name": "stdout",
     "output_type": "stream",
     "text": [
      "For Geeks Life\n"
     ]
    }
   ],
   "source": [
    "# positional formating\n",
    "String1 = \"{1} {0} {2}\".format('Geeks', 'For', 'Life') \n",
    "#print(\"\\nPrint String in Positional order: \") \n",
    "print(String1) "
   ]
  },
  {
   "cell_type": "code",
   "execution_count": 14,
   "metadata": {},
   "outputs": [
    {
     "name": "stdout",
     "output_type": "stream",
     "text": [
      "chinnu Archana bunny\n"
     ]
    }
   ],
   "source": [
    "String1 = \"{c} {a} {b}\".format(a = 'Archana', b = 'bunny', c = 'chinnu') \n",
    "#print(\"\\nPrint String in order of Keywords: \") \n",
    "print(String1)"
   ]
  },
  {
   "cell_type": "code",
   "execution_count": 18,
   "metadata": {},
   "outputs": [
    {
     "name": "stdout",
     "output_type": "stream",
     "text": [
      "10010\n"
     ]
    }
   ],
   "source": [
    "# Formatting of integers\n",
    "String1 = \"{0:b}\".format(18) \n",
    "#print(\"\\nBinary representation of 16 is \") \n",
    "print(String1) "
   ]
  },
  {
   "cell_type": "code",
   "execution_count": 19,
   "metadata": {},
   "outputs": [
    {
     "name": "stdout",
     "output_type": "stream",
     "text": [
      "1.656458e+02\n"
     ]
    }
   ],
   "source": [
    "# Formatting of Floats \n",
    "String1 = \"{0:e}\".format(165.6458) \n",
    "#print(\"\\nExponent representation of 165.6458 is \") \n",
    "print(String1) "
   ]
  },
  {
   "cell_type": "code",
   "execution_count": null,
   "metadata": {},
   "outputs": [],
   "source": [
    "# Rounding off Integers \n",
    "String1 = \"{0:.2f}\".format(1/6) \n",
    "#print(\"\\none-sixth is : \") \n",
    "print(String1) "
   ]
  },
  {
   "cell_type": "code",
   "execution_count": 46,
   "metadata": {},
   "outputs": [
    {
     "name": "stdout",
     "output_type": "stream",
     "text": [
      "6\n"
     ]
    }
   ],
   "source": [
    "s=\"archana\"\n",
    "#print(s.find('n'))\n",
    "\n",
    "#print(s.lstrip())\n",
    "\n",
    "print(s.rfind('a'))\n"
   ]
  },
  {
   "cell_type": "code",
   "execution_count": 48,
   "metadata": {},
   "outputs": [
    {
     "name": "stdout",
     "output_type": "stream",
     "text": [
      "0\n",
      "<class 'str'>\n"
     ]
    }
   ],
   "source": [
    "s=\"12098\"\n",
    "#print(max(s))\n",
    "print(min(s))\n",
    "print(type(s))"
   ]
  },
  {
   "cell_type": "code",
   "execution_count": 50,
   "metadata": {},
   "outputs": [
    {
     "name": "stdout",
     "output_type": "stream",
     "text": [
      "archana\n",
      "ARCHANA\n"
     ]
    }
   ],
   "source": [
    "s=\"archana\"\n",
    "print(s.lower())\n",
    "print(s.upper())"
   ]
  },
  {
   "cell_type": "code",
   "execution_count": 58,
   "metadata": {},
   "outputs": [
    {
     "name": "stdout",
     "output_type": "stream",
     "text": [
      "asd12345\n",
      "15\n"
     ]
    }
   ],
   "source": [
    "s1=input()\n",
    "s=0\n",
    "for i in s1:\n",
    "    if i.isdigit():\n",
    "        s=s+int(i)\n",
    "print(s)\n",
    "        "
   ]
  },
  {
   "cell_type": "code",
   "execution_count": 63,
   "metadata": {},
   "outputs": [
    {
     "name": "stdout",
     "output_type": "stream",
     "text": [
      "SDFwesdfc\n",
      "6 3\n"
     ]
    }
   ],
   "source": [
    "data=input()\n",
    "count=0\n",
    "s=0\n",
    "for i in data:\n",
    "    if i.islower():\n",
    "        count+=1\n",
    "    elif i.isupper():\n",
    "        s+=1\n",
    "print(count,s)"
   ]
  },
  {
   "cell_type": "code",
   "execution_count": 6,
   "metadata": {},
   "outputs": [
    {
     "data": {
      "text/plain": [
       "'cra'"
      ]
     },
     "execution_count": 6,
     "metadata": {},
     "output_type": "execute_result"
    }
   ],
   "source": [
    "s=\"archana\"\n",
    "s1=s[0:3]\n",
    "s2=s1[::-1]\n",
    "s2"
   ]
  },
  {
   "cell_type": "code",
   "execution_count": 9,
   "metadata": {},
   "outputs": [
    {
     "name": "stdout",
     "output_type": "stream",
     "text": [
      "arch\n",
      "no match\n"
     ]
    }
   ],
   "source": [
    "s=input()\n",
    "vowels=('a','e','i','o','u')\n",
    "if s.endswith(vowels):\n",
    "    print(s)\n",
    "else:\n",
    "    print(\"no match\")\n"
   ]
  },
  {
   "cell_type": "code",
   "execution_count": 11,
   "metadata": {},
   "outputs": [
    {
     "name": "stdout",
     "output_type": "stream",
     "text": [
      "drfghjk\n",
      "no match\n"
     ]
    }
   ],
   "source": [
    "s=input()\n",
    "vowels=('a','e','i','o','u')\n",
    "if s.startswith(vowels):\n",
    "    print(s)\n",
    "else:\n",
    "    print(\"no match\")"
   ]
  },
  {
   "cell_type": "code",
   "execution_count": 14,
   "metadata": {},
   "outputs": [
    {
     "name": "stdout",
     "output_type": "stream",
     "text": [
      "welcome to apssdc\n",
      "Welcome To Apssdc\n"
     ]
    }
   ],
   "source": [
    "s=input()\n",
    "print(s.title())\n",
    "#print(s1)"
   ]
  },
  {
   "cell_type": "code",
   "execution_count": 16,
   "metadata": {},
   "outputs": [
    {
     "name": "stdout",
     "output_type": "stream",
     "text": [
      "hi hello\n",
      "HI HELLO\n"
     ]
    }
   ],
   "source": [
    "s=input()\n",
    "s1=s.swapcase()\n",
    "print(s1)\n"
   ]
  },
  {
   "cell_type": "code",
   "execution_count": 26,
   "metadata": {},
   "outputs": [
    {
     "name": "stdout",
     "output_type": "stream",
     "text": [
      "2\n"
     ]
    }
   ],
   "source": [
    "s=\"archana\"\n",
    "#print(s.count('a'))\n",
    "print(s.find(\"c\"))"
   ]
  },
  {
   "cell_type": "code",
   "execution_count": null,
   "metadata": {},
   "outputs": [],
   "source": []
  }
 ],
 "metadata": {
  "kernelspec": {
   "display_name": "Python 3",
   "language": "python",
   "name": "python3"
  },
  "language_info": {
   "codemirror_mode": {
    "name": "ipython",
    "version": 3
   },
   "file_extension": ".py",
   "mimetype": "text/x-python",
   "name": "python",
   "nbconvert_exporter": "python",
   "pygments_lexer": "ipython3",
   "version": "3.7.3"
  }
 },
 "nbformat": 4,
 "nbformat_minor": 2
}
