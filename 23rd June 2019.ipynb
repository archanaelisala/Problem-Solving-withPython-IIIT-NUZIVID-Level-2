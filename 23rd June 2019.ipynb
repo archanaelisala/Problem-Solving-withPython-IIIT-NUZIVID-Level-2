{
 "cells": [
  {
   "cell_type": "code",
   "execution_count": null,
   "metadata": {},
   "outputs": [],
   "source": [
    "def WwordsCountFile(filepath):\n",
    "    pattern ='\\n'"
   ]
  },
  {
   "cell_type": "code",
   "execution_count": null,
   "metadata": {},
   "outputs": [],
   "source": []
  },
  {
   "cell_type": "code",
   "execution_count": null,
   "metadata": {},
   "outputs": [],
   "source": []
  },
  {
   "cell_type": "code",
   "execution_count": 2,
   "metadata": {},
   "outputs": [
    {
     "ename": "SyntaxError",
     "evalue": "invalid syntax (<ipython-input-2-e24b1bfb5a1b>, line 10)",
     "output_type": "error",
     "traceback": [
      "\u001b[1;36m  File \u001b[1;32m\"<ipython-input-2-e24b1bfb5a1b>\"\u001b[1;36m, line \u001b[1;32m10\u001b[0m\n\u001b[1;33m    uniquewords=unique data()\u001b[0m\n\u001b[1;37m                          ^\u001b[0m\n\u001b[1;31mSyntaxError\u001b[0m\u001b[1;31m:\u001b[0m invalid syntax\n"
     ]
    }
   ],
   "source": [
    "### Frequency Distribution\n",
    "\n",
    "def FrequencyDistribution(filepath):\n",
    "    #Dictionary to be used\n",
    "        # Keys -> Unique words\n",
    "        # Values -> Count of Unique words\n",
    "    \n",
    "    #set\n",
    "    allWords=wordswordsFromFile(filepath)\n",
    "    uniquewords=unique data()\n",
    "    for word   in unique words:\n",
    "        count=allwords.count(word)\n",
    "        print(word,'':',count)\n",
    "    retunrn\n",
    "filepath = 'Data files/data.txt'\n",
    "FrequencyDistribution(filepath)\n",
    "              \n",
    "            \n",
    "def FrequencyDistribution2(filepath):\n",
    "              allwords=wordsFromFile(filepath)\n",
    "              wordfrequency={}\n",
    "              for word in allwords:\n",
    "              if word not in wordFrequency.keys()\n",
    "              \n",
    "              \n",
    "              \n",
    "              \n",
    "          \n"
   ]
  },
  {
   "cell_type": "code",
   "execution_count": null,
   "metadata": {},
   "outputs": [],
   "source": []
  },
  {
   "cell_type": "code",
   "execution_count": null,
   "metadata": {},
   "outputs": [],
   "source": [
    "# Find and Replace Application\n",
    "    #Counting the total noumber of occurances of a file\n",
    "    # if word is existing \n",
    "    # replace all occurences of a word with another word\n",
    "    \n",
    "# Marks Analysis Application\n",
    "    # Generate the marks file for n students\n",
    "    # Input: marks Text file ->each line in marks text file contains marks of one student\n",
    "    # Generates a report with the following information\n",
    "        # class average\n",
    "        # % of Students passed\n",
    "        # % of Failed Students\n",
    "        # % of students with distinction\n",
    "    \n"
   ]
  }
 ],
 "metadata": {
  "kernelspec": {
   "display_name": "Python 3",
   "language": "python",
   "name": "python3"
  },
  "language_info": {
   "codemirror_mode": {
    "name": "ipython",
    "version": 3
   },
   "file_extension": ".py",
   "mimetype": "text/x-python",
   "name": "python",
   "nbconvert_exporter": "python",
   "pygments_lexer": "ipython3",
   "version": "3.7.3"
  }
 },
 "nbformat": 4,
 "nbformat_minor": 2
}
