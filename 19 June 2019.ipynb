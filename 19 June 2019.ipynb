{
 "cells": [
  {
   "cell_type": "code",
   "execution_count": 4,
   "metadata": {},
   "outputs": [
    {
     "name": "stdout",
     "output_type": "stream",
     "text": [
      "765\n",
      "Its Not a Palindrome\n"
     ]
    }
   ],
   "source": [
    "def palindrome(num):\n",
    "    s=num[::-1]\n",
    "    if s == num:\n",
    "        print(\"Its a Palindrome\")\n",
    "    else:\n",
    "        print(\"Its Not a Palindrome\")\n",
    "num=input()\n",
    "palindrome(num)"
   ]
  },
  {
   "cell_type": "code",
   "execution_count": 1,
   "metadata": {},
   "outputs": [
    {
     "name": "stdout",
     "output_type": "stream",
     "text": [
      "5\n",
      "1 2 3 4 5\n",
      "120\n"
     ]
    }
   ],
   "source": [
    "# Number Product\n",
    "n=int(input())\n",
    "x=input()\n",
    "answer=1\n",
    "x=x.split()\n",
    "for j in x:\n",
    "    answer=((answer*int(j))%(100000007))\n",
    "print(answer)"
   ]
  },
  {
   "cell_type": "code",
   "execution_count": null,
   "metadata": {},
   "outputs": [],
   "source": [
    "# e_mage_in\n",
    "\n",
    "a=0\n",
    "b=0\n",
    "n=input()\n",
    "for i in n:\n",
    "    if i == \"L\":\n",
    "        a = a-1\n",
    "    elif i == \"R\":\n",
    "        a = a+1\n",
    "    elif i == \"U\":\n",
    "        b = b+1\n",
    "    else:\n",
    "        b = b-1\n",
    "print(a,b)\n",
    "    \n"
   ]
  },
  {
   "cell_type": "code",
   "execution_count": null,
   "metadata": {},
   "outputs": [],
   "source": []
  }
 ],
 "metadata": {
  "kernelspec": {
   "display_name": "Python 3",
   "language": "python",
   "name": "python3"
  },
  "language_info": {
   "codemirror_mode": {
    "name": "ipython",
    "version": 3
   },
   "file_extension": ".py",
   "mimetype": "text/x-python",
   "name": "python",
   "nbconvert_exporter": "python",
   "pygments_lexer": "ipython3",
   "version": "3.7.3"
  }
 },
 "nbformat": 4,
 "nbformat_minor": 2
}
