{
 "cells": [
  {
   "cell_type": "code",
   "execution_count": 16,
   "metadata": {},
   "outputs": [
    {
     "name": "stdout",
     "output_type": "stream",
     "text": [
      "2\n",
      "3\n",
      "A\n",
      "5\n",
      "A\n"
     ]
    }
   ],
   "source": [
    "liftA=0\n",
    "liftB=7\n",
    "t=int(input())\n",
    "for i in range(t):\n",
    "    n=int(input())\n",
    "    condition1=abs(liftA-n)\n",
    "    condition2=abs(liftB-n)\n",
    "    if(condition1<=condition2):\n",
    "        print(\"A\")\n",
    "        liftA=n\n",
    "    else:\n",
    "        print(\"B\")\n",
    "        liftB=n\n"
   ]
  },
  {
   "cell_type": "code",
   "execution_count": 11,
   "metadata": {},
   "outputs": [
    {
     "name": "stdout",
     "output_type": "stream",
     "text": [
      "2\n",
      "6\n",
      "B\n",
      "2\n",
      "A\n"
     ]
    }
   ],
   "source": [
    "def liftQueries(n,liftA,liftB):\n",
    "    #liftA=0\n",
    "    #liftB=7\n",
    "    #n=3\n",
    "    condition1=abs(liftA-n)#3\n",
    "    condition2=abs(liftB-n)#4\n",
    "    #print('con',condition1,condition2,liftA)\n",
    "    if(condition1<=condition2):\n",
    "        print(\"A\")\n",
    "        liftA=n\n",
    "        return liftA,liftB\n",
    "    else:\n",
    "        print(\"B\")\n",
    "        LiftB=n\n",
    "        return liftA,liftB\n",
    "t=int(input())\n",
    "liftA = 0\n",
    "liftB = 7\n",
    "for i in range(t):\n",
    "    n=int(input())\n",
    "    liftA,liftB = liftQueries(n,liftA,liftB)"
   ]
  },
  {
   "cell_type": "code",
   "execution_count": 6,
   "metadata": {},
   "outputs": [
    {
     "name": "stdout",
     "output_type": "stream",
     "text": [
      "4\n",
      "1 2 3 4\n",
      "1\n"
     ]
    }
   ],
   "source": [
    "## Long ATM Que\n",
    "\n",
    "\n",
    "n=int(input())\n",
    "s=list(map(int,input().split()))\n",
    "s1=1\n",
    "for i in range(n-1):\n",
    "    if s[i]>s[i+1]:\n",
    "        s1+=1\n",
    "print(s1)"
   ]
  },
  {
   "cell_type": "code",
   "execution_count": 15,
   "metadata": {},
   "outputs": [
    {
     "name": "stdout",
     "output_type": "stream",
     "text": [
      "1 10 1\n",
      "10\n"
     ]
    }
   ],
   "source": [
    "#n=int(input())\n",
    "l,r,k=list(map(int,input().split()))\n",
    "cnt=0\n",
    "for i in range(l,r+1):\n",
    "    if i%k==0:\n",
    "        cnt+=1\n",
    "print(cnt)"
   ]
  },
  {
   "cell_type": "code",
   "execution_count": 18,
   "metadata": {},
   "outputs": [
    {
     "name": "stdout",
     "output_type": "stream",
     "text": [
      "4\n",
      "1 2 3 4\n",
      "[1, 2, 3, 4]\n"
     ]
    }
   ],
   "source": [
    "n=int(input())\n",
    "l=list(map(int,input().split()))\n",
    "print(l)"
   ]
  },
  {
   "cell_type": "code",
   "execution_count": 1,
   "metadata": {},
   "outputs": [
    {
     "name": "stdout",
     "output_type": "stream",
     "text": [
      "6\n",
      "16 17 4 3 5 2\n",
      "17 5 2 "
     ]
    }
   ],
   "source": [
    "#Hamiltonian and Lagrangian\n",
    "n = int(input())\n",
    "marks=list(map(int,input().split()))\n",
    "for i in range(n):\n",
    "    for j in range(i+1,n):\n",
    "        if marks[i]<marks[j]:\n",
    "            break\n",
    "    else:\n",
    "        print(marks[i],end=\" \")"
   ]
  },
  {
   "cell_type": "code",
   "execution_count": 3,
   "metadata": {},
   "outputs": [
    {
     "name": "stdout",
     "output_type": "stream",
     "text": [
      "5\n",
      "1 2 3 4 5\n",
      "10 9 8 7 6\n",
      "11 11 11 11 11 "
     ]
    }
   ],
   "source": [
    "# Monk and Welcome Problem\n",
    "\n",
    "n=int(input())\n",
    "set1=list(map(int,input().split()))\n",
    "set2=list(map(int,input().split()))\n",
    "for i in range(n):\n",
    "    result=set1[i]+set2[i]\n",
    "    print(result,end=\" \")\n",
    "\n",
    "\n"
   ]
  },
  {
   "cell_type": "code",
   "execution_count": 5,
   "metadata": {},
   "outputs": [
    {
     "name": "stdout",
     "output_type": "stream",
     "text": [
      "13\n",
      "motu\n"
     ]
    }
   ],
   "source": [
    "n=int(input())\n",
    "\n",
    "for i in range(n):\n",
    "    if n-i<=0:\n",
    "        print(\"patlu\")\n",
    "        break\n",
    "    else:\n",
    "        n=n-i\n",
    "        if n-(i*2)<=0:\n",
    "            print(\"motu\")\n",
    "            break\n",
    "        else:\n",
    "            n=n-i*2"
   ]
  },
  {
   "cell_type": "code",
   "execution_count": null,
   "metadata": {},
   "outputs": [],
   "source": []
  }
 ],
 "metadata": {
  "kernelspec": {
   "display_name": "Python 3",
   "language": "python",
   "name": "python3"
  },
  "language_info": {
   "codemirror_mode": {
    "name": "ipython",
    "version": 3
   },
   "file_extension": ".py",
   "mimetype": "text/x-python",
   "name": "python",
   "nbconvert_exporter": "python",
   "pygments_lexer": "ipython3",
   "version": "3.7.3"
  }
 },
 "nbformat": 4,
 "nbformat_minor": 2
}
