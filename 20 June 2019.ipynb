{
 "cells": [
  {
   "cell_type": "markdown",
   "metadata": {},
   "source": [
    "### Day objectives\n",
    "Regular expressions\n",
    "    - Constructing Regular Expressions for various use cases\n",
    "    - Regular Expressions Module and related in python\n",
    "    - Improving the contact application with name and phone number\n",
    "File Handling:\n",
    "    - Text Files \n",
    "    - Upgarding the Contacts Application with contact and Phone Number"
   ]
  },
  {
   "cell_type": "markdown",
   "metadata": {},
   "source": [
    "# Regular Expressions---> http://regex.101.com\n",
    "##### Constructing Regular Expressions for various use cases\n",
    "\n",
    "\n",
    "\n",
    "  - Pattern Matching\n",
    "  - Symbolic Notation of a pattern\n",
    "      - pattern :Format which repeats\n",
    "      - pattern(RE) - The set of all strings matches that pattern\n",
    "  - [0-9] ->Any Digit\n",
    "  - [a-z] -> Any lower case allphabet\n",
    "\n",
    "  - [2468] -> All single digit multiples of 2\n",
    "  - ^[0-9]{1} -> Onlysingle digits\n",
    "  - ^[0-9]{3} -> It will highlight the first 3 digits\n",
    "  - ^[0-9]{3}$ -> it means string length should be 3 it will not highlight if the length exceed the range(i.e 3)\n",
    "  -  [0-9]*[0]$ -> Multiples of 10\n",
    "  -  ^[1-9]*[50]$ ->multiples of 5\n",
    "  -  ^([1-9][0-9]*[50])$|^([5])$ -> multiples of 5 other than 5\n",
    "  - [w][o][r][d] or (word) -> searching for a word\n",
    "  - [6-9][0-9]{9}$|[0][6-9][0-9]{9}|^+[9][ ->seraching for indian phone number\n",
    "  - ^[6-9][0-9]{9}$|^[0][6-9][0-9]{9}$ ->mob num\n",
    "  - ^[a-z].+[@].+[com]$ (or) ^[0-9a-z][0-9a-z_.]{4,13}[0-9a-z][@][0-9a-z]{3,17}[.][a-z]{2,3}$ -> email verification\n",
    "              \n",
    "              - user name\n",
    "                  - Lengnth of username : [6,15] ==> ^[0-9a-z][0-9a-z]{4,13}[0-9a-z]$\n",
    "              - domain\n",
    "                   - length of domain:[3,18] ==> [0-9a-z]{3,17}[.]$\n",
    "                   - No special characters\n",
    "                   - character set: all digits and lower case alphabets\n",
    "              - extentiom\n",
    "                     - Length of extension : [2,4] ===>^[a-z]{2,3}$\n",
    "                     - no special characters\n",
    "                     - character set : lowercase alphabet\n",
    "                     \n",
    "    - ^a...z$ ===> Any string with the length 5 and starts with 'a' and ends with 'z'\n",
    "       ^a.*[z]$ ===> Any string starts with 'a' and ends with 'z'"
   ]
  },
  {
   "cell_type": "code",
   "execution_count": 31,
   "metadata": {},
   "outputs": [
    {
     "name": "stdout",
     "output_type": "stream",
     "text": [
      "contact added\n"
     ]
    },
    {
     "data": {
      "text/plain": [
       "{}"
      ]
     },
     "execution_count": 31,
     "metadata": {},
     "output_type": "execute_result"
    }
   ],
   "source": [
    "contacts = {}\n",
    "def addContact(name,phone,email):\n",
    "    if name in contacts:\n",
    "        print(\"name already exist\")\n",
    "    else:\n",
    "        print(\"contact added\")\n",
    "    return\n",
    "        \n",
    "addContact(\"Archan5\",\"9503456789\",'archana540@gmail.com')  \n",
    "contacts"
   ]
  },
  {
   "cell_type": "code",
   "execution_count": 7,
   "metadata": {},
   "outputs": [
    {
     "name": "stdout",
     "output_type": "stream",
     "text": [
      "9502335367\n",
      "valid number\n"
     ]
    }
   ],
   "source": [
    "# function to validate a phone number\n",
    "import re\n",
    "def phoneNumberValidator(num):\n",
    "    pattern = '^[6-9][0-9]{9}$'\n",
    "    if re.match(pattern,str(num)):\n",
    "        print(\"valid number\")\n",
    "    else:\n",
    "        print(\"Invalid Number\")\n",
    "num=int(input())\n",
    "phoneNumberValidator(num)\n",
    "\n"
   ]
  },
  {
   "cell_type": "code",
   "execution_count": 8,
   "metadata": {},
   "outputs": [
    {
     "name": "stdout",
     "output_type": "stream",
     "text": [
      "archanaelisala@gmail.com\n",
      "valid email address\n"
     ]
    }
   ],
   "source": [
    "import re\n",
    "def emailValidator(email):\n",
    "    pattern='^[0-9a-z][0-9a-z_.]{4,13}[0-9a-z][@][0-9a-z]{3,17}[.][a-z]{2,3}$'\n",
    "    if re.match(pattern,email):\n",
    "        print(\"valid email address\")\n",
    "    else:\n",
    "        print(\"invalid email address\")\n",
    "email=input()\n",
    "emailValidator(email)"
   ]
  },
  {
   "cell_type": "code",
   "execution_count": 69,
   "metadata": {},
   "outputs": [
    {
     "name": "stdout",
     "output_type": "stream",
     "text": [
      "valid number\n",
      "invalid Phone Number\n"
     ]
    },
    {
     "data": {
      "text/plain": [
       "{'anu1': [9876543211, 'name1@gmail.com'],\n",
       " 'archana': [9876543234, 'kjhgfgh@gmail.com']}"
      ]
     },
     "execution_count": 69,
     "metadata": {},
     "output_type": "execute_result"
    }
   ],
   "source": [
    "contacts={\"anu1\":[9876543211,\"name1@gmail.com\"],\"archana\":[9876543234,\"kjhgfgh@gmail.com\"]}\n",
    "def addContact(name,phone,email):\n",
    "    if name in contacts:\n",
    "        print(name,\"already exits\")\n",
    "    else:\n",
    "        if not phoneNumberValidator(phone):\n",
    "            print(\"invalid Phone Number\")\n",
    "            return\n",
    "        if not emailValidator(email):\n",
    "            print(\"invalid email address\")\n",
    "            return\n",
    "        newcontact=[]\n",
    "        newcontact.append(phone)\n",
    "        newcontact.append(email)\n",
    "        contacts[name]=newcontact\n",
    "    return\n",
    "\n",
    "addContact(\"anusha1\",9876543217,\"djfgv_@gmail.com\")\n",
    "contacts"
   ]
  },
  {
   "cell_type": "code",
   "execution_count": 35,
   "metadata": {},
   "outputs": [
    {
     "name": "stdout",
     "output_type": "stream",
     "text": [
      "Anu does not exist\n"
     ]
    }
   ],
   "source": [
    "def searchContact(name):\n",
    "    if name in contacts:\n",
    "        print(name)\n",
    "        print(\"Phone :\",contacts[name][0])\n",
    "        print(\"Email :\",contacts[name][1])\n",
    "    else:\n",
    "        print(\"%s does not exist\" % name)\n",
    "    return\n",
    "searchContact(\"Anu\")"
   ]
  },
  {
   "cell_type": "code",
   "execution_count": 19,
   "metadata": {},
   "outputs": [
    {
     "name": "stdout",
     "output_type": "stream",
     "text": [
      "1 added successfully\n"
     ]
    },
    {
     "data": {
      "text/plain": [
       "{'name4': [9502335367, 'name4_540@gmail.com']}"
      ]
     },
     "execution_count": 19,
     "metadata": {},
     "output_type": "execute_result"
    }
   ],
   "source": [
    "def importContacts(newContacts):\n",
    "    contacts.update(newContacts)\n",
    "    print(len(newContacts.keys()), \"added successfully\")\n",
    "    return\n",
    "newContacts = {\"name4\":[9502335367, \"name4_540@gmail.com\"]}\n",
    "importContacts(newContacts)\n",
    "newContacts"
   ]
  },
  {
   "cell_type": "code",
   "execution_count": 71,
   "metadata": {},
   "outputs": [
    {
     "name": "stdout",
     "output_type": "stream",
     "text": [
      "anu1 \n",
      " phone: 9876543211 \n",
      " Email: name1@gmail.com\n",
      "archana \n",
      " phone: 9876543234 \n",
      " Email: kjhgfgh@gmail.com\n"
     ]
    },
    {
     "data": {
      "text/plain": [
       "{'anu1': [9876543211, 'name1@gmail.com'],\n",
       " 'archana': [9876543234, 'kjhgfgh@gmail.com']}"
      ]
     },
     "execution_count": 71,
     "metadata": {},
     "output_type": "execute_result"
    }
   ],
   "source": [
    "def listAllContacts():\n",
    "    for contact, info in contacts.items():\n",
    "        print(contact,\"\\n\",\"phone:\", info[0], \"\\n\", \"Email:\", info[1])\n",
    "    return\n",
    "listAllContacts()\n",
    "contacts"
   ]
  },
  {
   "cell_type": "code",
   "execution_count": 8,
   "metadata": {},
   "outputs": [
    {
     "name": "stdout",
     "output_type": "stream",
     "text": [
      "anu does not exist\n"
     ]
    }
   ],
   "source": []
  },
  {
   "cell_type": "code",
   "execution_count": null,
   "metadata": {},
   "outputs": [],
   "source": []
  },
  {
   "cell_type": "code",
   "execution_count": 12,
   "metadata": {},
   "outputs": [
    {
     "name": "stdout",
     "output_type": "stream",
     "text": [
      "Invalid Number\n",
      "Invalid Number\n",
      "phone number is invalid\n"
     ]
    }
   ],
   "source": []
  },
  {
   "cell_type": "code",
   "execution_count": null,
   "metadata": {},
   "outputs": [],
   "source": []
  },
  {
   "cell_type": "code",
   "execution_count": null,
   "metadata": {},
   "outputs": [],
   "source": []
  },
  {
   "cell_type": "code",
   "execution_count": null,
   "metadata": {},
   "outputs": [],
   "source": []
  },
  {
   "cell_type": "markdown",
   "metadata": {},
   "source": [
    "# File Handling In Python\n",
    " File - Document containing information residing\n",
    " Types - Text,PDF,CSV etc\n",
    " \n",
    " File I/O - Channelling I/O data to files\n",
    " Default I/O channels - keyboard / screen\n",
    " \n",
    " change I/O channel to files for Reading and writing \n",
    " \n",
    " Read a File - Input from file\n",
    " Write to a file - Output to a file\n",
    " \n",
    " Read / write file - oprn (filename,mode)"
   ]
  },
  {
   "cell_type": "code",
   "execution_count": 45,
   "metadata": {},
   "outputs": [
    {
     "name": "stdout",
     "output_type": "stream",
     "text": [
      "Hello\n",
      "Welcome To IIIT-Nuzivid\n",
      "RGUKT\n",
      "NUZVID\n"
     ]
    }
   ],
   "source": [
    "def readFile(filename):\n",
    "    f=open(filename,'r')\n",
    "    filedata=f.read()\n",
    "    f.close\n",
    "    return filedata\n",
    "filename='Data files/data.txt'\n",
    "filedata=readFile(filename)\n",
    "#readFile(filename).split('\\n')\n",
    "for line in filedata.split('\\n'):\n",
    "    print(line)\n",
    "    "
   ]
  },
  {
   "cell_type": "code",
   "execution_count": 54,
   "metadata": {},
   "outputs": [
    {
     "name": "stdout",
     "output_type": "stream",
     "text": [
      "Hello\n",
      "\n",
      "Welcome To IIIT-Nuzivid\n",
      "\n",
      "RGUKT\n",
      "\n",
      "NUZVID\n"
     ]
    }
   ],
   "source": [
    "def printFileDataLine(filename):\n",
    "    f=open(filename,'r')\n",
    "    for line in f:\n",
    "        print(line)\n",
    "    #filedata=f.read()\n",
    "    f.close\n",
    "    return \n",
    "printFileDataLine(filename)"
   ]
  },
  {
   "cell_type": "code",
   "execution_count": 56,
   "metadata": {},
   "outputs": [
    {
     "data": {
      "text/plain": [
       "'Hello'"
      ]
     },
     "execution_count": 56,
     "metadata": {},
     "output_type": "execute_result"
    }
   ],
   "source": [
    "def line(filename):\n",
    "    f= open(filename,'r')\n",
    "    filedata=f.read(5)\n",
    "    f.close\n",
    "    return filedata\n",
    "filedata='Data files/data.txt'\n",
    "filedata=readFile(filename)\n",
    "line(filename)"
   ]
  },
  {
   "cell_type": "code",
   "execution_count": 59,
   "metadata": {},
   "outputs": [],
   "source": [
    "# Function to write data into a file\n",
    "\n",
    "def writeIntoFile(filename,filedata):\n",
    "    with open(filename,'w') as f:\n",
    "        f.write(filedata)\n",
    "    return\n",
    "filename= 'Data files/data.txt'\n",
    "writeIntoFile(filename,\"Archana u are modified this file\")"
   ]
  },
  {
   "cell_type": "code",
   "execution_count": 61,
   "metadata": {},
   "outputs": [],
   "source": [
    "# Function to append data\n",
    "def appendData(filename,filedata):\n",
    "    with open(filename,'a') as f:\n",
    "        f.write(filedata)\n",
    "    return\n",
    "filename= 'Data files/data.txt'\n",
    "appendData(filename,\"\\n welcome to IIIT-N\")"
   ]
  },
  {
   "cell_type": "code",
   "execution_count": 62,
   "metadata": {},
   "outputs": [],
   "source": [
    "def appendData(filename,filedata):\n",
    "    with open(filename,'a') as f:\n",
    "        f.writelines(filedata)\n",
    "    return\n",
    "filename= 'Data files/contacts.txt'\n",
    "filedata=[\"\\narchana\",\"\\nanusha\"]\n",
    "appendData(filename,filedata)"
   ]
  },
  {
   "cell_type": "code",
   "execution_count": null,
   "metadata": {},
   "outputs": [],
   "source": []
  }
 ],
 "metadata": {
  "kernelspec": {
   "display_name": "Python 3",
   "language": "python",
   "name": "python3"
  }
 },
 "nbformat": 4,
 "nbformat_minor": 2
}
