{
 "cells": [
  {
   "cell_type": "code",
   "execution_count": 9,
   "metadata": {},
   "outputs": [
    {
     "name": "stdout",
     "output_type": "stream",
     "text": [
      "0 1 1 1 2 2 2 2 2 1 "
     ]
    }
   ],
   "source": [
    "# s = 123abc456def\n",
    "# 0 1 1 1 1 1 1 \n",
    "\n",
    "\n",
    "def uniqueData(allnumbers):\n",
    "    unique=[]\n",
    "    for n in allnumbers:\n",
    "        if n not in unique:\n",
    "            unique.append(n)\n",
    "    return unique\n",
    "\n",
    "def digitFrequency(s):\n",
    "    allnumbers = []\n",
    "    for i in s:\n",
    "        if i.isdigit():\n",
    "            allnumbers.append(i)\n",
    "    unique = uniqueData(allnumbers)\n",
    "    for i in range(0,10):\n",
    "        if str(i) not in unique:\n",
    "            print(0,end=' ')\n",
    "        else:\n",
    "            count=allnumbers.count(str(i))\n",
    "            print(count,end=' ')\n",
    "digitFrequency('qwertyu12345678987654')"
   ]
  },
  {
   "cell_type": "code",
   "execution_count": 1,
   "metadata": {},
   "outputs": [],
   "source": [
    "def idigitFrequency2(s):\n",
    "    for i in range(0,10):\n",
    "        count=s.count(str(i))\n",
    "    print(count)\n",
    "idigitFrequency2('1234fghj87612gh')"
   ]
  },
  {
   "cell_type": "code",
   "execution_count": 11,
   "metadata": {},
   "outputs": [
    {
     "data": {
      "text/plain": [
       "3"
      ]
     },
     "execution_count": 11,
     "metadata": {},
     "output_type": "execute_result"
    }
   ],
   "source": [
    "# Function to check if two strings \n",
    "\n",
    "def checkAnagrams(s1,s2):\n",
    "    if len(s1) != len(s2):\n",
    "        return False\n",
    "    if sorted(s1) == sorted(s2):\n",
    "        return True\n",
    "    return False\n",
    "#checkAnagrams('abc','bcc')\n",
    "\n",
    "def charDeletionsAnagram(s1,s2):\n",
    "    uncommon = []\n",
    "    for i in s1:\n",
    "        if i not in s2:\n",
    "            uncommon.append(i)\n",
    "    for i in s2:\n",
    "        if i not in s1:\n",
    "            uncommon.append(i)\n",
    "    count=len(uncommon)\n",
    "    freqs1={}\n",
    "    freqs2={}\n",
    "    uniqs1=[]\n",
    "    uniqs2=[]\n",
    "    # Frequency of common unique characters in s1\n",
    "    for i in s1: \n",
    "        if i not in uncommon and i not in uniqs1:\n",
    "            freqs1[i] = s1.count(i)\n",
    "            uniqs1.append(i)\n",
    "    # Frequency of unique characters in s2\n",
    "    for i in s2:\n",
    "        if i not in uncommon and i not in uniqs2:\n",
    "            freqs2[i]=s2.count(i)\n",
    "            uniqs2.append(i)\n",
    "    # difference in frequencies for common characters \n",
    "    for key in freqs1.keys():\n",
    "        count+=abs(freqs1[key]-freqs2[key])\n",
    "    return count\n",
    "\n",
    "\n",
    "charDeletionsAnagram('absdfc','abc')\n",
    "\n",
    "\n"
   ]
  },
  {
   "cell_type": "code",
   "execution_count": 12,
   "metadata": {},
   "outputs": [
    {
     "data": {
      "text/plain": [
       "62228"
      ]
     },
     "execution_count": 12,
     "metadata": {},
     "output_type": "execute_result"
    }
   ],
   "source": [
    "# Problem1\n",
    "def average(l,h):\n",
    "    sum=0\n",
    "    for i in range(l,h+1):\n",
    "        sum+=i\n",
    "    count=h-l+1\n",
    "    return sum//count\n",
    "average(1000,123456)"
   ]
  },
  {
   "cell_type": "code",
   "execution_count": 22,
   "metadata": {},
   "outputs": [
    {
     "data": {
      "text/plain": [
       "'b'"
      ]
     },
     "execution_count": 22,
     "metadata": {},
     "output_type": "execute_result"
    }
   ],
   "source": [
    "#Problem2\n",
    "\n",
    "def kLargestFrequency(s,k):\n",
    "    # Construct the Frequency Dictionary for all unique characters\n",
    "    #unique=[]\n",
    "    freq={}\n",
    "    for i in s:\n",
    "        if i not in freq.keys():\n",
    "            freq[i]=s.count(i)\n",
    "            #unique.append(i)\n",
    "            \n",
    "    values = sorted(freq.values(),reverse=True)\n",
    "    uniquevalues=list(set(values))\n",
    "    uniquevalues=sorted(uniquevalues,reverse=True)\n",
    "    \n",
    "    # Identifying the kth largest frequency\n",
    "    if k <= len(uniquevalues):\n",
    "        kvalue=uniquevalues[k-1]\n",
    "    else:\n",
    "        return -1\n",
    "    \n",
    "    li=[]\n",
    "    for item in freq.items():\n",
    "        if item[1] == kvalue:\n",
    "            li.append(item[0])\n",
    "    return min(li)\n",
    "kLargestFrequency('aabcd',2)\n",
    "    \n",
    "            \n",
    "    "
   ]
  },
  {
   "cell_type": "code",
   "execution_count": null,
   "metadata": {},
   "outputs": [],
   "source": []
  }
 ],
 "metadata": {
  "kernelspec": {
   "display_name": "Python 3",
   "language": "python",
   "name": "python3"
  },
  "language_info": {
   "codemirror_mode": {
    "name": "ipython",
    "version": 3
   },
   "file_extension": ".py",
   "mimetype": "text/x-python",
   "name": "python",
   "nbconvert_exporter": "python",
   "pygments_lexer": "ipython3",
   "version": "3.7.3"
  }
 },
 "nbformat": 4,
 "nbformat_minor": 2
}
